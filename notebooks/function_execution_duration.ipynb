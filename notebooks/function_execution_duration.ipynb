{
 "cells": [
  {
   "cell_type": "code",
   "execution_count": 1,
   "metadata": {},
   "outputs": [
    {
     "name": "stdout",
     "output_type": "stream",
     "text": [
      "Defaulting to user installation because normal site-packages is not writeable\n",
      "Requirement already satisfied: pandas in /Users/oluwaseyi/Library/Python/3.9/lib/python/site-packages (2.2.2)\n",
      "Requirement already satisfied: numpy>=1.22.4 in /Users/oluwaseyi/Library/Python/3.9/lib/python/site-packages (from pandas) (2.0.0)\n",
      "Requirement already satisfied: python-dateutil>=2.8.2 in /Users/oluwaseyi/Library/Python/3.9/lib/python/site-packages (from pandas) (2.8.2)\n",
      "Requirement already satisfied: pytz>=2020.1 in /Users/oluwaseyi/Library/Python/3.9/lib/python/site-packages (from pandas) (2024.1)\n",
      "Requirement already satisfied: tzdata>=2022.7 in /Users/oluwaseyi/Library/Python/3.9/lib/python/site-packages (from pandas) (2024.1)\n",
      "Requirement already satisfied: six>=1.5 in /Library/Developer/CommandLineTools/Library/Frameworks/Python3.framework/Versions/3.9/lib/python3.9/site-packages (from python-dateutil>=2.8.2->pandas) (1.15.0)\n",
      "\n",
      "\u001b[1m[\u001b[0m\u001b[34;49mnotice\u001b[0m\u001b[1;39;49m]\u001b[0m\u001b[39;49m A new release of pip is available: \u001b[0m\u001b[31;49m23.2.1\u001b[0m\u001b[39;49m -> \u001b[0m\u001b[32;49m24.3.1\u001b[0m\n",
      "\u001b[1m[\u001b[0m\u001b[34;49mnotice\u001b[0m\u001b[1;39;49m]\u001b[0m\u001b[39;49m To update, run: \u001b[0m\u001b[32;49m/Library/Developer/CommandLineTools/usr/bin/python3 -m pip install --upgrade pip\u001b[0m\n",
      "Note: you may need to restart the kernel to use updated packages.\n"
     ]
    }
   ],
   "source": [
    "pip install pandas"
   ]
  },
  {
   "cell_type": "code",
   "execution_count": 2,
   "metadata": {},
   "outputs": [
    {
     "name": "stdout",
     "output_type": "stream",
     "text": [
      "                                           HashOwner  \\\n",
      "0  5640c1597ef75fa9a7e9c6925022a039a4ba9829241709...   \n",
      "1  5640c1597ef75fa9a7e9c6925022a039a4ba9829241709...   \n",
      "2  41d6e09d0f86f5aaa1df842c1ac4f14fbd4dc676bec7e0...   \n",
      "3  e117b8c1676e11d859824b18fc0202ae8eaa89cb3f58e2...   \n",
      "4  3c8c13c6bd162490dae4402bcb9ff1e5c6c14bb21da35a...   \n",
      "\n",
      "                                             HashApp  \\\n",
      "0  5126901eff078c9a1f5295c859c9327588284a43cc2c0b...   \n",
      "1  5126901eff078c9a1f5295c859c9327588284a43cc2c0b...   \n",
      "2  77a93348150f5281c32c9027870a77983ad6eba72e6c28...   \n",
      "3  5c84cc1fbc4261f22d6f626304670979c1f1b94709acc8...   \n",
      "4  3b80dfff065220947f7d626dd6c9176731d3e17591e496...   \n",
      "\n",
      "                                        HashFunction  Average_Execution_Time  \\\n",
      "0  c968871b4ef0123401975d026b85cae2ad7dad9d06ae94...                     100   \n",
      "1  1bc2d86badd21b18a8533d8e961e52585e5ad1fee0e2c2...                     202   \n",
      "2  b4d7cb9985cd8c1b7fe5ef888bbde1883929e9a5b5d2a6...                      11   \n",
      "3  ff612aae7b380ef81ccef063ff814354ee16018af65dc1...                       0   \n",
      "4  ee79840da82525548358f4b91d9fa1e550ec7af36bbe3e...                     389   \n",
      "\n",
      "   Min_Execution_Time  Max_Execution_Time  Median_Execution_Time  \\\n",
      "0                 0.0              2595.0                      1   \n",
      "1                 0.0              2596.0                      1   \n",
      "2                 1.0              3913.0                      5   \n",
      "3                 0.0               123.0                      0   \n",
      "4                78.0              5607.0                    136   \n",
      "\n",
      "   Peak_Execution_Time  \n",
      "0                 1376  \n",
      "1                 2326  \n",
      "2                  155  \n",
      "3                    1  \n",
      "4                 4761  \n"
     ]
    }
   ],
   "source": [
    "import pandas as pd\n",
    "\n",
    "# Load the data\n",
    "df = pd.read_csv('../Datasets/azurefunctions-dataset2019/function_durations_percentiles.anon.d01.csv')\n",
    "\n",
    "# Select relevant columns for typical, peak, and range execution times\n",
    "# We are choosing Average, Minimum, Maximum, percentile_Average_50, and percentile_Average_99\n",
    "data_processed = df[['HashOwner', 'HashApp', 'HashFunction', 'Average', 'Minimum', 'Maximum', \n",
    "                       'percentile_Average_50', 'percentile_Average_99']]\n",
    "\n",
    "# Rename columns for clarity in the simulation context\n",
    "data_processed = data_processed.rename(columns={\n",
    "    'Average': 'Average_Execution_Time',            # Average execution time (average)\n",
    "    'Minimum': 'Min_Execution_Time',                # Best-case execution time\n",
    "    'Maximum': 'Max_Execution_Time',                # Worst-case execution time\n",
    "    'percentile_Average_50': 'Median_Execution_Time',  # Median execution time (average load)\n",
    "    'percentile_Average_99': 'Peak_Execution_Time'  # Peak execution time (high load)\n",
    "})\n",
    "\n",
    "# Save the processed data for use in the simulation\n",
    "data_processed.to_csv('../Processed/processed_function_durations.csv', index=False)\n",
    "\n",
    "# Display the first few rows of the processed data to verify\n",
    "print(data_processed.head())\n"
   ]
  }
 ],
 "metadata": {
  "kernelspec": {
   "display_name": "Python 3",
   "language": "python",
   "name": "python3"
  },
  "language_info": {
   "codemirror_mode": {
    "name": "ipython",
    "version": 3
   },
   "file_extension": ".py",
   "mimetype": "text/x-python",
   "name": "python",
   "nbconvert_exporter": "python",
   "pygments_lexer": "ipython3",
   "version": "3.9.6"
  }
 },
 "nbformat": 4,
 "nbformat_minor": 2
}
