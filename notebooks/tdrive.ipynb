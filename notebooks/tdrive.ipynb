{
 "cells": [
  {
   "cell_type": "code",
   "execution_count": 1,
   "metadata": {},
   "outputs": [
    {
     "name": "stdout",
     "output_type": "stream",
     "text": [
      "Defaulting to user installation because normal site-packages is not writeable\n",
      "Requirement already satisfied: pandas in /Users/oluwaseyi/Library/Python/3.9/lib/python/site-packages (2.2.2)\n",
      "Requirement already satisfied: numpy>=1.22.4 in /Users/oluwaseyi/Library/Python/3.9/lib/python/site-packages (from pandas) (2.0.0)\n",
      "Requirement already satisfied: python-dateutil>=2.8.2 in /Users/oluwaseyi/Library/Python/3.9/lib/python/site-packages (from pandas) (2.8.2)\n",
      "Requirement already satisfied: pytz>=2020.1 in /Users/oluwaseyi/Library/Python/3.9/lib/python/site-packages (from pandas) (2024.1)\n",
      "Requirement already satisfied: tzdata>=2022.7 in /Users/oluwaseyi/Library/Python/3.9/lib/python/site-packages (from pandas) (2024.1)\n",
      "Requirement already satisfied: six>=1.5 in /Library/Developer/CommandLineTools/Library/Frameworks/Python3.framework/Versions/3.9/lib/python3.9/site-packages (from python-dateutil>=2.8.2->pandas) (1.15.0)\n",
      "\n",
      "\u001b[1m[\u001b[0m\u001b[34;49mnotice\u001b[0m\u001b[1;39;49m]\u001b[0m\u001b[39;49m A new release of pip is available: \u001b[0m\u001b[31;49m23.2.1\u001b[0m\u001b[39;49m -> \u001b[0m\u001b[32;49m24.2\u001b[0m\n",
      "\u001b[1m[\u001b[0m\u001b[34;49mnotice\u001b[0m\u001b[1;39;49m]\u001b[0m\u001b[39;49m To update, run: \u001b[0m\u001b[32;49m/Library/Developer/CommandLineTools/usr/bin/python3 -m pip install --upgrade pip\u001b[0m\n",
      "Note: you may need to restart the kernel to use updated packages.\n"
     ]
    }
   ],
   "source": [
    "pip install pandas"
   ]
  },
  {
   "cell_type": "code",
   "execution_count": 2,
   "metadata": {},
   "outputs": [
    {
     "name": "stdout",
     "output_type": "stream",
     "text": [
      "\n",
      "Summary Statistics:\n",
      "            1  2008-02-02 15:36:08   116.51172    39.92123\n",
      "count   587.0                  587  587.000000  587.000000\n",
      "unique    NaN                  563         NaN         NaN\n",
      "top       NaN  2008-02-02 15:46:08         NaN         NaN\n",
      "freq      NaN                    2         NaN         NaN\n",
      "mean      1.0                  NaN  116.654187   39.865118\n",
      "std       0.0                  NaN    0.079095    0.028880\n",
      "min       1.0                  NaN  116.358830   39.842920\n",
      "25%       1.0                  NaN  116.691475   39.851640\n",
      "50%       1.0                  NaN  116.691590   39.851730\n",
      "75%       1.0                  NaN  116.691630   39.851925\n",
      "max       1.0                  NaN  116.695680   39.996510\n",
      "<class 'pandas.core.frame.DataFrame'>\n",
      "RangeIndex: 587 entries, 0 to 586\n",
      "Data columns (total 4 columns):\n",
      " #   Column               Non-Null Count  Dtype  \n",
      "---  ------               --------------  -----  \n",
      " 0   1                    587 non-null    int64  \n",
      " 1   2008-02-02 15:36:08  587 non-null    object \n",
      " 2   116.51172            587 non-null    float64\n",
      " 3   39.92123             587 non-null    float64\n",
      "dtypes: float64(2), int64(1), object(1)\n",
      "memory usage: 18.5+ KB\n",
      "None\n",
      "   1  2008-02-02 15:36:08  116.51172  39.92123\n",
      "0  1  2008-02-02 15:46:08  116.51135  39.93883\n",
      "1  1  2008-02-02 15:46:08  116.51135  39.93883\n",
      "2  1  2008-02-02 15:56:08  116.51627  39.91034\n",
      "3  1  2008-02-02 16:06:08  116.47186  39.91248\n",
      "4  1  2008-02-02 16:16:08  116.47217  39.92498\n"
     ]
    }
   ],
   "source": [
    "# INITIAL CLEAN OF THE AZURE SERVERLESS FUNCTION DATA\n",
    "\n",
    "import pandas as pd\n",
    "\n",
    "# Step 1: Load the dataset\n",
    "file_path = '../Datasets/release/taxi_log_2008_by_id/1.txt'\n",
    "df = pd.read_csv(file_path)\n",
    "\n",
    "# Step 2: Exploration by displaying basic information and statistics about the dataset \n",
    "print(\"\\nSummary Statistics:\")\n",
    "print(df.describe(include='all'))\n",
    "print(df.info())\n",
    "print(df.head())"
   ]
  }
 ],
 "metadata": {
  "kernelspec": {
   "display_name": "Python 3",
   "language": "python",
   "name": "python3"
  },
  "language_info": {
   "codemirror_mode": {
    "name": "ipython",
    "version": 3
   },
   "file_extension": ".py",
   "mimetype": "text/x-python",
   "name": "python",
   "nbconvert_exporter": "python",
   "pygments_lexer": "ipython3",
   "version": "3.9.6"
  }
 },
 "nbformat": 4,
 "nbformat_minor": 2
}
