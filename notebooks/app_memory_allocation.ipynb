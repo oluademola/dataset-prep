{
 "cells": [
  {
   "cell_type": "code",
   "execution_count": 3,
   "metadata": {},
   "outputs": [
    {
     "name": "stdout",
     "output_type": "stream",
     "text": [
      "Defaulting to user installation because normal site-packages is not writeable\n",
      "Requirement already satisfied: pandas in /Users/oluwaseyi/Library/Python/3.9/lib/python/site-packages (2.2.2)\n",
      "Requirement already satisfied: numpy>=1.22.4 in /Users/oluwaseyi/Library/Python/3.9/lib/python/site-packages (from pandas) (2.0.0)\n",
      "Requirement already satisfied: python-dateutil>=2.8.2 in /Users/oluwaseyi/Library/Python/3.9/lib/python/site-packages (from pandas) (2.8.2)\n",
      "Requirement already satisfied: pytz>=2020.1 in /Users/oluwaseyi/Library/Python/3.9/lib/python/site-packages (from pandas) (2024.1)\n",
      "Requirement already satisfied: tzdata>=2022.7 in /Users/oluwaseyi/Library/Python/3.9/lib/python/site-packages (from pandas) (2024.1)\n",
      "Requirement already satisfied: six>=1.5 in /Library/Developer/CommandLineTools/Library/Frameworks/Python3.framework/Versions/3.9/lib/python3.9/site-packages (from python-dateutil>=2.8.2->pandas) (1.15.0)\n",
      "\n",
      "\u001b[1m[\u001b[0m\u001b[34;49mnotice\u001b[0m\u001b[1;39;49m]\u001b[0m\u001b[39;49m A new release of pip is available: \u001b[0m\u001b[31;49m23.2.1\u001b[0m\u001b[39;49m -> \u001b[0m\u001b[32;49m24.3.1\u001b[0m\n",
      "\u001b[1m[\u001b[0m\u001b[34;49mnotice\u001b[0m\u001b[1;39;49m]\u001b[0m\u001b[39;49m To update, run: \u001b[0m\u001b[32;49m/Library/Developer/CommandLineTools/usr/bin/python3 -m pip install --upgrade pip\u001b[0m\n",
      "Note: you may need to restart the kernel to use updated packages.\n"
     ]
    }
   ],
   "source": [
    "pip install pandas"
   ]
  },
  {
   "cell_type": "code",
   "execution_count": 4,
   "metadata": {},
   "outputs": [
    {
     "name": "stdout",
     "output_type": "stream",
     "text": [
      "                                           HashOwner  \\\n",
      "0  71ca12c7af70d021e285b51b245942f8432df6463ff9f2...   \n",
      "1  dca6b75d51b494146b50f93b0f1a863ce99164942695e8...   \n",
      "2  e564f454ffe6e39c133b43183ca5c1537fec3a55b3a73c...   \n",
      "3  15d422b003e198041546b5a1b46aa4d3aaada57de592a8...   \n",
      "4  f5b5e5b8537dd76458e850d7c0dc4057dcd8e0dfa50d36...   \n",
      "\n",
      "                                             HashApp  Average_Memory_Usage_MB  \\\n",
      "0  7ca324d9fc836a5d4562811c11ce3719530ee919dd1fb9...                      108   \n",
      "1  cfccc67d83c3c4dc1dd075e77e41232282e4d7a75d2ba9...                      322   \n",
      "2  93db1e4c30e99d1c416ee453dd67504641b88144e23219...                      673   \n",
      "3  e59cebb1c16975c6ee9dd52430c55380dc305ae1fb9171...                       95   \n",
      "4  fb68374027828434785f3c5ce09fcdc2e44212559643bd...                      204   \n",
      "\n",
      "   Median_Memory_Usage_MB  High_Memory_Usage_MB  Peak_Memory_Usage_MB  \n",
      "0                     109                   109                   110  \n",
      "1                     307                   532                   692  \n",
      "2                     679                  1036                  1179  \n",
      "3                      96                    96                    96  \n",
      "4                     206                   214                   223  \n"
     ]
    }
   ],
   "source": [
    "import pandas as pd\n",
    "\n",
    "# Load the data\n",
    "df = pd.read_csv('../Datasets/azurefunctions-dataset2019/app_memory_percentiles.anon.d01.csv')\n",
    "\n",
    "# Select relevant columns for typical and peak memory usage\n",
    "data_processed = df[['HashOwner', 'HashApp', 'AverageAllocatedMb', \n",
    "                       'AverageAllocatedMb_pct50', 'AverageAllocatedMb_pct95', 'AverageAllocatedMb_pct99']]\n",
    "\n",
    "# Rename columns for clarity in the simulation context\n",
    "data_processed = data_processed.rename(columns={\n",
    "    'AverageAllocatedMb': 'Average_Memory_Usage_MB',         # Typical memory usage\n",
    "    'AverageAllocatedMb_pct50': 'Median_Memory_Usage_MB',    # Median memory usage (standard load)\n",
    "    'AverageAllocatedMb_pct95': 'High_Memory_Usage_MB',      # High memory usage under load\n",
    "    'AverageAllocatedMb_pct99': 'Peak_Memory_Usage_MB'       # Peak memory usage under heavy load\n",
    "})\n",
    "\n",
    "# Save the processed data for use in the simulation\n",
    "data_processed.to_csv('../Processed/processed_app_memory.csv', index=False)\n",
    "\n",
    "# Display the first few rows of the processed data to verify\n",
    "print(data_processed.head())\n"
   ]
  }
 ],
 "metadata": {
  "kernelspec": {
   "display_name": "Python 3",
   "language": "python",
   "name": "python3"
  },
  "language_info": {
   "codemirror_mode": {
    "name": "ipython",
    "version": 3
   },
   "file_extension": ".py",
   "mimetype": "text/x-python",
   "name": "python",
   "nbconvert_exporter": "python",
   "pygments_lexer": "ipython3",
   "version": "3.9.6"
  }
 },
 "nbformat": 4,
 "nbformat_minor": 2
}
